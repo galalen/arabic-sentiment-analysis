{
 "cells": [
  {
   "cell_type": "code",
   "execution_count": 1,
   "metadata": {},
   "outputs": [
    {
     "name": "stderr",
     "output_type": "stream",
     "text": [
      "/usr/lib/python3.6/importlib/_bootstrap.py:219: RuntimeWarning: numpy.dtype size changed, may indicate binary incompatibility. Expected 96, got 88\n",
      "  return f(*args, **kwds)\n",
      "/usr/lib/python3.6/importlib/_bootstrap.py:219: RuntimeWarning: numpy.dtype size changed, may indicate binary incompatibility. Expected 96, got 88\n",
      "  return f(*args, **kwds)\n"
     ]
    }
   ],
   "source": [
    "import pandas as pd"
   ]
  },
  {
   "cell_type": "code",
   "execution_count": 2,
   "metadata": {},
   "outputs": [],
   "source": [
    "# load the data\n",
    "df = pd.read_csv('data.csv', encoding='utf-8')"
   ]
  },
  {
   "cell_type": "code",
   "execution_count": 3,
   "metadata": {},
   "outputs": [
    {
     "data": {
      "text/plain": [
       "(32063, 2)"
      ]
     },
     "execution_count": 3,
     "metadata": {},
     "output_type": "execute_result"
    }
   ],
   "source": [
    "df.shape"
   ]
  },
  {
   "cell_type": "code",
   "execution_count": 4,
   "metadata": {},
   "outputs": [
    {
     "data": {
      "text/html": [
       "<div>\n",
       "<style scoped>\n",
       "    .dataframe tbody tr th:only-of-type {\n",
       "        vertical-align: middle;\n",
       "    }\n",
       "\n",
       "    .dataframe tbody tr th {\n",
       "        vertical-align: top;\n",
       "    }\n",
       "\n",
       "    .dataframe thead th {\n",
       "        text-align: right;\n",
       "    }\n",
       "</style>\n",
       "<table border=\"1\" class=\"dataframe\">\n",
       "  <thead>\n",
       "    <tr style=\"text-align: right;\">\n",
       "      <th></th>\n",
       "      <th>created_at</th>\n",
       "      <th>text</th>\n",
       "    </tr>\n",
       "  </thead>\n",
       "  <tbody>\n",
       "    <tr>\n",
       "      <th>0</th>\n",
       "      <td>2018-07-25 07:43:00</td>\n",
       "      <td>RT @snas2030: خالد السليمان : لـ #ولي_العهد ال...</td>\n",
       "    </tr>\n",
       "    <tr>\n",
       "      <th>1</th>\n",
       "      <td>2018-07-25 07:41:20</td>\n",
       "      <td>RT @halimamuthffar: المختصر .. \\n\\nالعمل في ال...</td>\n",
       "    </tr>\n",
       "    <tr>\n",
       "      <th>2</th>\n",
       "      <td>2018-07-25 07:39:06</td>\n",
       "      <td>#الإسكان تطلق منصة جديدة يمكنك من خلالها  الحص...</td>\n",
       "    </tr>\n",
       "    <tr>\n",
       "      <th>3</th>\n",
       "      <td>2018-07-25 07:39:05</td>\n",
       "      <td>#وزير_المالية : تم تخصيص 70 ألف أرض سكنية وتخص...</td>\n",
       "    </tr>\n",
       "    <tr>\n",
       "      <th>4</th>\n",
       "      <td>2018-07-25 07:39:05</td>\n",
       "      <td>تملك السعوديين للمنازل يقفز  50% والتصاعد مستم...</td>\n",
       "    </tr>\n",
       "  </tbody>\n",
       "</table>\n",
       "</div>"
      ],
      "text/plain": [
       "            created_at                                               text\n",
       "0  2018-07-25 07:43:00  RT @snas2030: خالد السليمان : لـ #ولي_العهد ال...\n",
       "1  2018-07-25 07:41:20  RT @halimamuthffar: المختصر .. \\n\\nالعمل في ال...\n",
       "2  2018-07-25 07:39:06  #الإسكان تطلق منصة جديدة يمكنك من خلالها  الحص...\n",
       "3  2018-07-25 07:39:05  #وزير_المالية : تم تخصيص 70 ألف أرض سكنية وتخص...\n",
       "4  2018-07-25 07:39:05  تملك السعوديين للمنازل يقفز  50% والتصاعد مستم..."
      ]
     },
     "execution_count": 4,
     "metadata": {},
     "output_type": "execute_result"
    }
   ],
   "source": [
    "# check the data for the first time\n",
    "df.head()"
   ]
  },
  {
   "cell_type": "code",
   "execution_count": 5,
   "metadata": {},
   "outputs": [],
   "source": [
    "# clean the data from nonsense words, to help speed up the training process\n",
    "\n",
    "from bs4 import BeautifulSoup\n",
    "import re\n",
    "from nltk.tokenize import WordPunctTokenizer\n",
    "tok = WordPunctTokenizer()\n",
    "\n",
    "\n",
    "pat1 = r'@[A-Za-z0-9]+'\n",
    "pat2 = r'https?://[A-Za-z0-9./]+'\n",
    "combined_pat = r'|'.join((pat1, pat2))\n",
    "\n",
    "def clean_str(text):\n",
    "    search = [\"أ\",\"إ\",\"آ\",\"ة\",\"_\",\"-\",\"/\",\".\",\"،\",\" و \",\" يا \",'\"',\"ـ\",\"'\",\"ى\",\"\\\\\",'\\n', '\\t','&quot;','?','؟','!']\n",
    "    replace = [\"ا\",\"ا\",\"ا\",\"ه\",\" \",\" \",\"\",\"\",\"\",\" و\",\" يا\",\"\",\"\",\"\",\"ي\",\"\",' ', ' ',' ',' ? ',' ؟ ',' ! ']\n",
    "    \n",
    "    #remove tashkeel\n",
    "    p_tashkeel = re.compile(r'[\\u0617-\\u061A\\u064B-\\u0652]')\n",
    "    text = re.sub(p_tashkeel,\"\", text)\n",
    "    \n",
    "    #remove longation\n",
    "    p_longation = re.compile(r'(.)\\1+')\n",
    "    subst = r\"\\1\\1\"\n",
    "    text = re.sub(p_longation, subst, text)\n",
    "    \n",
    "    text = text.replace('وو', 'و')\n",
    "    text = text.replace('يي', 'ي')\n",
    "    text = text.replace('اا', 'ا')\n",
    "    \n",
    "    soup = BeautifulSoup(text, 'lxml')\n",
    "    souped = soup.get_text()\n",
    "    stripped = re.sub(combined_pat, '', souped)\n",
    "    try:\n",
    "        clean = stripped.decode(\"utf-8-sig\").replace(u\"\\ufffd\", \"?\")\n",
    "    except:\n",
    "        clean = stripped\n",
    "    \n",
    "    words = tok.tokenize(clean)\n",
    "    return (\" \".join(words)).strip()\n",
    "    "
   ]
  },
  {
   "cell_type": "code",
   "execution_count": 6,
   "metadata": {},
   "outputs": [
    {
     "name": "stdout",
     "output_type": "stream",
     "text": [
      "Cleaning and parsing the tweets...\n",
      "\n"
     ]
    },
    {
     "name": "stderr",
     "output_type": "stream",
     "text": [
      "/home/mgalalen/.local/lib/python3.6/site-packages/bs4/__init__.py:282: UserWarning: \"https://t.co/JJ2GyjTjhP\n",
      "#السعودية\n",
      "#الغربيه\n",
      "#اليمن\n",
      "#رؤية_السعودية_2030\n",
      "#المدينة_المنورة\n",
      "#اليمن\" looks like a URL. Beautiful Soup is not an HTTP client. You should probably use an HTTP client like requests to get the document behind the URL, and feed that document to Beautiful Soup.\n",
      "  ' that document to Beautiful Soup.' % decoded_markup\n"
     ]
    },
    {
     "name": "stdout",
     "output_type": "stream",
     "text": [
      "Tweets 10000 of 32063 has been processed\n",
      "Tweets 20000 of 32063 has been processed\n"
     ]
    },
    {
     "name": "stderr",
     "output_type": "stream",
     "text": [
      "/home/mgalalen/.local/lib/python3.6/site-packages/bs4/__init__.py:282: UserWarning: \"https://t.co/qVsRP9Ciea\n",
      "#هويه_الحجاز.\" looks like a URL. Beautiful Soup is not an HTTP client. You should probably use an HTTP client like requests to get the document behind the URL, and feed that document to Beautiful Soup.\n",
      "  ' that document to Beautiful Soup.' % decoded_markup\n"
     ]
    },
    {
     "name": "stdout",
     "output_type": "stream",
     "text": [
      "Tweets 30000 of 32063 has been processed\n"
     ]
    }
   ],
   "source": [
    "# applying the cleaning function\n",
    "\n",
    "print(\"Cleaning and parsing the tweets...\\n\")\n",
    "size = len(df)\n",
    "clean_tweet_texts = []\n",
    "for i in range(0, size):\n",
    "    if (i+1)%10000 == 0:\n",
    "        print(\"Tweets %d of %d has been processed\" % (i+1, size))\n",
    "    clean_tweet_texts.append(clean_str(df['text'].astype('U')[i]))"
   ]
  },
  {
   "cell_type": "code",
   "execution_count": 7,
   "metadata": {},
   "outputs": [],
   "source": [
    "# add the cleaned data to the dataframe\n",
    "df['clean_text'] = clean_tweet_texts"
   ]
  },
  {
   "cell_type": "code",
   "execution_count": 9,
   "metadata": {},
   "outputs": [
    {
     "data": {
      "text/html": [
       "<div>\n",
       "<style scoped>\n",
       "    .dataframe tbody tr th:only-of-type {\n",
       "        vertical-align: middle;\n",
       "    }\n",
       "\n",
       "    .dataframe tbody tr th {\n",
       "        vertical-align: top;\n",
       "    }\n",
       "\n",
       "    .dataframe thead th {\n",
       "        text-align: right;\n",
       "    }\n",
       "</style>\n",
       "<table border=\"1\" class=\"dataframe\">\n",
       "  <thead>\n",
       "    <tr style=\"text-align: right;\">\n",
       "      <th></th>\n",
       "      <th>created_at</th>\n",
       "      <th>text</th>\n",
       "      <th>clean_text</th>\n",
       "    </tr>\n",
       "  </thead>\n",
       "  <tbody>\n",
       "    <tr>\n",
       "      <th>0</th>\n",
       "      <td>2018-07-25 07:43:00</td>\n",
       "      <td>RT @snas2030: خالد السليمان : لـ #ولي_العهد ال...</td>\n",
       "      <td>RT : خالد السليمان : لـ # ولي_العهد الأمير # م...</td>\n",
       "    </tr>\n",
       "    <tr>\n",
       "      <th>1</th>\n",
       "      <td>2018-07-25 07:41:20</td>\n",
       "      <td>RT @halimamuthffar: المختصر .. \\n\\nالعمل في ال...</td>\n",
       "      <td>RT : المختصر .. العمل في الشأن الثقافي ليس فقط...</td>\n",
       "    </tr>\n",
       "    <tr>\n",
       "      <th>2</th>\n",
       "      <td>2018-07-25 07:39:06</td>\n",
       "      <td>#الإسكان تطلق منصة جديدة يمكنك من خلالها  الحص...</td>\n",
       "      <td># الإسكان تطلق منصة جديدة يمكنك من خلالها الحص...</td>\n",
       "    </tr>\n",
       "    <tr>\n",
       "      <th>3</th>\n",
       "      <td>2018-07-25 07:39:05</td>\n",
       "      <td>#وزير_المالية : تم تخصيص 70 ألف أرض سكنية وتخص...</td>\n",
       "      <td># وزير_المالية : تم تخصيص 70 ألف أرض سكنية وتخ...</td>\n",
       "    </tr>\n",
       "    <tr>\n",
       "      <th>4</th>\n",
       "      <td>2018-07-25 07:39:05</td>\n",
       "      <td>تملك السعوديين للمنازل يقفز  50% والتصاعد مستم...</td>\n",
       "      <td>تملك السعودين للمنازل يقفز 50 % والتصاعد مستمر...</td>\n",
       "    </tr>\n",
       "  </tbody>\n",
       "</table>\n",
       "</div>"
      ],
      "text/plain": [
       "            created_at                                               text  \\\n",
       "0  2018-07-25 07:43:00  RT @snas2030: خالد السليمان : لـ #ولي_العهد ال...   \n",
       "1  2018-07-25 07:41:20  RT @halimamuthffar: المختصر .. \\n\\nالعمل في ال...   \n",
       "2  2018-07-25 07:39:06  #الإسكان تطلق منصة جديدة يمكنك من خلالها  الحص...   \n",
       "3  2018-07-25 07:39:05  #وزير_المالية : تم تخصيص 70 ألف أرض سكنية وتخص...   \n",
       "4  2018-07-25 07:39:05  تملك السعوديين للمنازل يقفز  50% والتصاعد مستم...   \n",
       "\n",
       "                                          clean_text  \n",
       "0  RT : خالد السليمان : لـ # ولي_العهد الأمير # م...  \n",
       "1  RT : المختصر .. العمل في الشأن الثقافي ليس فقط...  \n",
       "2  # الإسكان تطلق منصة جديدة يمكنك من خلالها الحص...  \n",
       "3  # وزير_المالية : تم تخصيص 70 ألف أرض سكنية وتخ...  \n",
       "4  تملك السعودين للمنازل يقفز 50 % والتصاعد مستمر...  "
      ]
     },
     "execution_count": 9,
     "metadata": {},
     "output_type": "execute_result"
    }
   ],
   "source": [
    "# view data after cleaning\n",
    "df.head()"
   ]
  },
  {
   "cell_type": "markdown",
   "metadata": {},
   "source": [
    "## Data Annotation"
   ]
  },
  {
   "cell_type": "code",
   "execution_count": 10,
   "metadata": {},
   "outputs": [],
   "source": [
    "# because the datasets it's large we consider automate the task of annotation using KMeans\n",
    "\n",
    "from sklearn.feature_extraction.text import TfidfVectorizer\n",
    "from sklearn.cluster import KMeans\n",
    "import numpy as np"
   ]
  },
  {
   "cell_type": "code",
   "execution_count": 11,
   "metadata": {},
   "outputs": [],
   "source": [
    "# vectorizing the words\n",
    "tfidf = TfidfVectorizer()\n",
    "data = tfidf.fit_transform(df['clean_text'].values.astype('U'))"
   ]
  },
  {
   "cell_type": "code",
   "execution_count": 14,
   "metadata": {},
   "outputs": [
    {
     "data": {
      "text/plain": [
       "KMeans(algorithm='auto', copy_x=True, init='k-means++', max_iter=300,\n",
       "    n_clusters=3, n_init=10, n_jobs=1, precompute_distances='auto',\n",
       "    random_state=None, tol=0.0001, verbose=0)"
      ]
     },
     "execution_count": 14,
     "metadata": {},
     "output_type": "execute_result"
    }
   ],
   "source": [
    "# fitting data into KMeans and create 3 clusters\n",
    "kmeans = KMeans(n_clusters=3)\n",
    "kmeans.fit(data)"
   ]
  },
  {
   "cell_type": "code",
   "execution_count": 17,
   "metadata": {},
   "outputs": [
    {
     "data": {
      "text/plain": [
       "(32063, (32063, 60440), (32063, 3))"
      ]
     },
     "execution_count": 17,
     "metadata": {},
     "output_type": "execute_result"
    }
   ],
   "source": [
    "# check the size of the data\n",
    "len(kmeans.labels_.tolist()), data.shape, df.shape"
   ]
  },
  {
   "cell_type": "code",
   "execution_count": 18,
   "metadata": {},
   "outputs": [],
   "source": [
    "df['label'] = kmeans.labels_.tolist()"
   ]
  },
  {
   "cell_type": "code",
   "execution_count": 19,
   "metadata": {},
   "outputs": [
    {
     "data": {
      "text/html": [
       "<div>\n",
       "<style scoped>\n",
       "    .dataframe tbody tr th:only-of-type {\n",
       "        vertical-align: middle;\n",
       "    }\n",
       "\n",
       "    .dataframe tbody tr th {\n",
       "        vertical-align: top;\n",
       "    }\n",
       "\n",
       "    .dataframe thead th {\n",
       "        text-align: right;\n",
       "    }\n",
       "</style>\n",
       "<table border=\"1\" class=\"dataframe\">\n",
       "  <thead>\n",
       "    <tr style=\"text-align: right;\">\n",
       "      <th></th>\n",
       "      <th>created_at</th>\n",
       "      <th>text</th>\n",
       "      <th>clean_text</th>\n",
       "      <th>label</th>\n",
       "    </tr>\n",
       "  </thead>\n",
       "  <tbody>\n",
       "    <tr>\n",
       "      <th>0</th>\n",
       "      <td>2018-07-25 07:43:00</td>\n",
       "      <td>RT @snas2030: خالد السليمان : لـ #ولي_العهد ال...</td>\n",
       "      <td>RT : خالد السليمان : لـ # ولي_العهد الأمير # م...</td>\n",
       "      <td>0</td>\n",
       "    </tr>\n",
       "    <tr>\n",
       "      <th>1</th>\n",
       "      <td>2018-07-25 07:41:20</td>\n",
       "      <td>RT @halimamuthffar: المختصر .. \\n\\nالعمل في ال...</td>\n",
       "      <td>RT : المختصر .. العمل في الشأن الثقافي ليس فقط...</td>\n",
       "      <td>0</td>\n",
       "    </tr>\n",
       "    <tr>\n",
       "      <th>2</th>\n",
       "      <td>2018-07-25 07:39:06</td>\n",
       "      <td>#الإسكان تطلق منصة جديدة يمكنك من خلالها  الحص...</td>\n",
       "      <td># الإسكان تطلق منصة جديدة يمكنك من خلالها الحص...</td>\n",
       "      <td>2</td>\n",
       "    </tr>\n",
       "    <tr>\n",
       "      <th>3</th>\n",
       "      <td>2018-07-25 07:39:05</td>\n",
       "      <td>#وزير_المالية : تم تخصيص 70 ألف أرض سكنية وتخص...</td>\n",
       "      <td># وزير_المالية : تم تخصيص 70 ألف أرض سكنية وتخ...</td>\n",
       "      <td>2</td>\n",
       "    </tr>\n",
       "    <tr>\n",
       "      <th>4</th>\n",
       "      <td>2018-07-25 07:39:05</td>\n",
       "      <td>تملك السعوديين للمنازل يقفز  50% والتصاعد مستم...</td>\n",
       "      <td>تملك السعودين للمنازل يقفز 50 % والتصاعد مستمر...</td>\n",
       "      <td>2</td>\n",
       "    </tr>\n",
       "  </tbody>\n",
       "</table>\n",
       "</div>"
      ],
      "text/plain": [
       "            created_at                                               text  \\\n",
       "0  2018-07-25 07:43:00  RT @snas2030: خالد السليمان : لـ #ولي_العهد ال...   \n",
       "1  2018-07-25 07:41:20  RT @halimamuthffar: المختصر .. \\n\\nالعمل في ال...   \n",
       "2  2018-07-25 07:39:06  #الإسكان تطلق منصة جديدة يمكنك من خلالها  الحص...   \n",
       "3  2018-07-25 07:39:05  #وزير_المالية : تم تخصيص 70 ألف أرض سكنية وتخص...   \n",
       "4  2018-07-25 07:39:05  تملك السعوديين للمنازل يقفز  50% والتصاعد مستم...   \n",
       "\n",
       "                                          clean_text  label  \n",
       "0  RT : خالد السليمان : لـ # ولي_العهد الأمير # م...      0  \n",
       "1  RT : المختصر .. العمل في الشأن الثقافي ليس فقط...      0  \n",
       "2  # الإسكان تطلق منصة جديدة يمكنك من خلالها الحص...      2  \n",
       "3  # وزير_المالية : تم تخصيص 70 ألف أرض سكنية وتخ...      2  \n",
       "4  تملك السعودين للمنازل يقفز 50 % والتصاعد مستمر...      2  "
      ]
     },
     "execution_count": 19,
     "metadata": {},
     "output_type": "execute_result"
    }
   ],
   "source": [
    "df.head()"
   ]
  },
  {
   "cell_type": "code",
   "execution_count": 27,
   "metadata": {},
   "outputs": [
    {
     "data": {
      "text/html": [
       "<div>\n",
       "<style scoped>\n",
       "    .dataframe tbody tr th:only-of-type {\n",
       "        vertical-align: middle;\n",
       "    }\n",
       "\n",
       "    .dataframe tbody tr th {\n",
       "        vertical-align: top;\n",
       "    }\n",
       "\n",
       "    .dataframe thead th {\n",
       "        text-align: right;\n",
       "    }\n",
       "</style>\n",
       "<table border=\"1\" class=\"dataframe\">\n",
       "  <thead>\n",
       "    <tr style=\"text-align: right;\">\n",
       "      <th></th>\n",
       "      <th>text</th>\n",
       "      <th>label</th>\n",
       "    </tr>\n",
       "  </thead>\n",
       "  <tbody>\n",
       "    <tr>\n",
       "      <th>0</th>\n",
       "      <td>RT : خالد السليمان : لـ # ولي_العهد الأمير # م...</td>\n",
       "      <td>0</td>\n",
       "    </tr>\n",
       "    <tr>\n",
       "      <th>1</th>\n",
       "      <td>RT : المختصر .. العمل في الشأن الثقافي ليس فقط...</td>\n",
       "      <td>0</td>\n",
       "    </tr>\n",
       "    <tr>\n",
       "      <th>2</th>\n",
       "      <td># الإسكان تطلق منصة جديدة يمكنك من خلالها الحص...</td>\n",
       "      <td>2</td>\n",
       "    </tr>\n",
       "    <tr>\n",
       "      <th>3</th>\n",
       "      <td># وزير_المالية : تم تخصيص 70 ألف أرض سكنية وتخ...</td>\n",
       "      <td>2</td>\n",
       "    </tr>\n",
       "    <tr>\n",
       "      <th>4</th>\n",
       "      <td>تملك السعودين للمنازل يقفز 50 % والتصاعد مستمر...</td>\n",
       "      <td>2</td>\n",
       "    </tr>\n",
       "  </tbody>\n",
       "</table>\n",
       "</div>"
      ],
      "text/plain": [
       "                                                text  label\n",
       "0  RT : خالد السليمان : لـ # ولي_العهد الأمير # م...      0\n",
       "1  RT : المختصر .. العمل في الشأن الثقافي ليس فقط...      0\n",
       "2  # الإسكان تطلق منصة جديدة يمكنك من خلالها الحص...      2\n",
       "3  # وزير_المالية : تم تخصيص 70 ألف أرض سكنية وتخ...      2\n",
       "4  تملك السعودين للمنازل يقفز 50 % والتصاعد مستمر...      2"
      ]
     },
     "execution_count": 27,
     "metadata": {},
     "output_type": "execute_result"
    }
   ],
   "source": [
    "# create empty dataframe for the cleaned data\n",
    "clean_df = pd.DataFrame()\n",
    "clean_df.head()\n",
    "clean_df['text'] = df['clean_text']\n",
    "clean_df['label'] = df['label']\n",
    "clean_df.head()"
   ]
  },
  {
   "cell_type": "code",
   "execution_count": null,
   "metadata": {},
   "outputs": [],
   "source": [
    "# show data count\n",
    "print('Data labeled as 0 = {}'.format(clean_df[clean_df.label == 0].count()))\n",
    "print('Data labeled as 1 = {}'.format(clean_df[clean_df.label == 1].count()))\n",
    "print('Data labeled as 2 = {}'.format(clean_df[clean_df.label == 2].count()))"
   ]
  },
  {
   "cell_type": "markdown",
   "metadata": {},
   "source": [
    "## save the cleaned data to the disk"
   ]
  },
  {
   "cell_type": "code",
   "execution_count": 22,
   "metadata": {},
   "outputs": [
    {
     "data": {
      "text/html": [
       "<div>\n",
       "<style scoped>\n",
       "    .dataframe tbody tr th:only-of-type {\n",
       "        vertical-align: middle;\n",
       "    }\n",
       "\n",
       "    .dataframe tbody tr th {\n",
       "        vertical-align: top;\n",
       "    }\n",
       "\n",
       "    .dataframe thead th {\n",
       "        text-align: right;\n",
       "    }\n",
       "</style>\n",
       "<table border=\"1\" class=\"dataframe\">\n",
       "  <thead>\n",
       "    <tr style=\"text-align: right;\">\n",
       "      <th></th>\n",
       "      <th>text</th>\n",
       "      <th>label</th>\n",
       "    </tr>\n",
       "  </thead>\n",
       "  <tbody>\n",
       "    <tr>\n",
       "      <th>0</th>\n",
       "      <td>RT : خالد السليمان : لـ # ولي_العهد الأمير # م...</td>\n",
       "      <td>0</td>\n",
       "    </tr>\n",
       "    <tr>\n",
       "      <th>1</th>\n",
       "      <td>RT : المختصر .. العمل في الشأن الثقافي ليس فقط...</td>\n",
       "      <td>0</td>\n",
       "    </tr>\n",
       "    <tr>\n",
       "      <th>2</th>\n",
       "      <td># الإسكان تطلق منصة جديدة يمكنك من خلالها الحص...</td>\n",
       "      <td>2</td>\n",
       "    </tr>\n",
       "    <tr>\n",
       "      <th>3</th>\n",
       "      <td># وزير_المالية : تم تخصيص 70 ألف أرض سكنية وتخ...</td>\n",
       "      <td>2</td>\n",
       "    </tr>\n",
       "    <tr>\n",
       "      <th>4</th>\n",
       "      <td>تملك السعودين للمنازل يقفز 50 % والتصاعد مستمر...</td>\n",
       "      <td>2</td>\n",
       "    </tr>\n",
       "  </tbody>\n",
       "</table>\n",
       "</div>"
      ],
      "text/plain": [
       "                                                text  label\n",
       "0  RT : خالد السليمان : لـ # ولي_العهد الأمير # م...      0\n",
       "1  RT : المختصر .. العمل في الشأن الثقافي ليس فقط...      0\n",
       "2  # الإسكان تطلق منصة جديدة يمكنك من خلالها الحص...      2\n",
       "3  # وزير_المالية : تم تخصيص 70 ألف أرض سكنية وتخ...      2\n",
       "4  تملك السعودين للمنازل يقفز 50 % والتصاعد مستمر...      2"
      ]
     },
     "execution_count": 22,
     "metadata": {},
     "output_type": "execute_result"
    }
   ],
   "source": [
    "# csv_file = 'cleaned_data.csv'\n",
    "# clean_df.to_csv(csv_file,encoding='utf-8')\n",
    "# my_df = pd.read_csv(csv_file,index_col=0)\n",
    "# my_df.head()"
   ]
  },
  {
   "cell_type": "markdown",
   "metadata": {},
   "source": [
    "## Building the model"
   ]
  },
  {
   "cell_type": "code",
   "execution_count": 28,
   "metadata": {},
   "outputs": [],
   "source": [
    "from sklearn.cross_validation import train_test_split\n",
    "from sklearn.feature_extraction.text import CountVectorizer, TfidfTransformer\n",
    "from sklearn.pipeline import Pipeline\n",
    "from sklearn.svm import SVC\n",
    "from sklearn.metrics import classification_report\n",
    "import numpy as np"
   ]
  },
  {
   "cell_type": "code",
   "execution_count": 29,
   "metadata": {},
   "outputs": [],
   "source": [
    "# vectorize the data \n",
    "cv = CountVectorizer()\n",
    "X_data = cv.fit_transform(my_df['text'].values.astype('U'))"
   ]
  },
  {
   "cell_type": "code",
   "execution_count": 30,
   "metadata": {},
   "outputs": [],
   "source": [
    "# To find importance of the word with respect to the corpus.\n",
    "# see: http://scikit-learn.org/stable/modules/generated/sklearn.feature_extraction.text.TfidfVectorizer.html\n",
    "\n",
    "tfidf = TfidfTransformer()\n",
    "X_data_tfidf = tfidf.fit_transform(X_data)"
   ]
  },
  {
   "cell_type": "code",
   "execution_count": 31,
   "metadata": {},
   "outputs": [],
   "source": [
    "# segment the data to train and test sets\n",
    "\n",
    "X_train, X_test, y_train, y_test = train_test_split(X_data_tfidf, my_df['label'], test_size=0.33, random_state=42)"
   ]
  },
  {
   "cell_type": "code",
   "execution_count": 32,
   "metadata": {},
   "outputs": [
    {
     "data": {
      "text/plain": [
       "((21482, 60440), (10581, 60440))"
      ]
     },
     "execution_count": 32,
     "metadata": {},
     "output_type": "execute_result"
    }
   ],
   "source": [
    "X_train.shape, X_test.shape"
   ]
  },
  {
   "cell_type": "markdown",
   "metadata": {},
   "source": [
    "## SVM Model"
   ]
  },
  {
   "cell_type": "code",
   "execution_count": 33,
   "metadata": {},
   "outputs": [
    {
     "data": {
      "text/plain": [
       "SVC(C=1.0, cache_size=200, class_weight=None, coef0=0.0,\n",
       "  decision_function_shape='ovr', degree=3, gamma='auto', kernel='rbf',\n",
       "  max_iter=-1, probability=False, random_state=None, shrinking=True,\n",
       "  tol=0.001, verbose=False)"
      ]
     },
     "execution_count": 33,
     "metadata": {},
     "output_type": "execute_result"
    }
   ],
   "source": [
    "svc = SVC()\n",
    "svc.fit(X_train, y_train)"
   ]
  },
  {
   "cell_type": "code",
   "execution_count": 36,
   "metadata": {},
   "outputs": [
    {
     "name": "stdout",
     "output_type": "stream",
     "text": [
      "SVC model accuracy: 86.45685662980814\n"
     ]
    }
   ],
   "source": [
    "preds = svc.predict(X_test)\n",
    "acc = np.mean(preds == y_test)\n",
    "print('SVC model accuracy: {}'.format(acc*100))"
   ]
  },
  {
   "cell_type": "code",
   "execution_count": 38,
   "metadata": {},
   "outputs": [
    {
     "name": "stdout",
     "output_type": "stream",
     "text": [
      "             precision    recall  f1-score   support\n",
      "\n",
      "          0       0.86      1.00      0.93      9148\n",
      "          1       0.00      0.00      0.00      1157\n",
      "          2       0.00      0.00      0.00       276\n",
      "\n",
      "avg / total       0.75      0.86      0.80     10581\n",
      "\n"
     ]
    },
    {
     "name": "stderr",
     "output_type": "stream",
     "text": [
      "/home/mgalalen/.local/lib/python3.6/site-packages/sklearn/metrics/classification.py:1135: UndefinedMetricWarning: Precision and F-score are ill-defined and being set to 0.0 in labels with no predicted samples.\n",
      "  'precision', 'predicted', average, warn_for)\n"
     ]
    }
   ],
   "source": [
    "cr = classification_report(y_test, svc.predict(X_test))\n",
    "print(cr)"
   ]
  },
  {
   "cell_type": "markdown",
   "metadata": {},
   "source": [
    "## SGD Model"
   ]
  },
  {
   "cell_type": "code",
   "execution_count": 39,
   "metadata": {},
   "outputs": [],
   "source": [
    "# optimized version of SVM\n",
    "from sklearn.linear_model import SGDClassifier"
   ]
  },
  {
   "cell_type": "code",
   "execution_count": 40,
   "metadata": {},
   "outputs": [
    {
     "name": "stderr",
     "output_type": "stream",
     "text": [
      "/home/mgalalen/.local/lib/python3.6/site-packages/sklearn/linear_model/stochastic_gradient.py:128: FutureWarning: max_iter and tol parameters have been added in <class 'sklearn.linear_model.stochastic_gradient.SGDClassifier'> in 0.19. If both are left unset, they default to max_iter=5 and tol=None. If tol is not None, max_iter defaults to max_iter=1000. From 0.21, default max_iter will be 1000, and default tol will be 1e-3.\n",
      "  \"and default tol will be 1e-3.\" % type(self), FutureWarning)\n"
     ]
    },
    {
     "data": {
      "text/plain": [
       "SGDClassifier(alpha=0.0001, average=False, class_weight=None, epsilon=0.1,\n",
       "       eta0=0.0, fit_intercept=True, l1_ratio=0.15,\n",
       "       learning_rate='optimal', loss='hinge', max_iter=None, n_iter=None,\n",
       "       n_jobs=1, penalty='l2', power_t=0.5, random_state=None,\n",
       "       shuffle=True, tol=None, verbose=0, warm_start=False)"
      ]
     },
     "execution_count": 40,
     "metadata": {},
     "output_type": "execute_result"
    }
   ],
   "source": [
    "clf = SGDClassifier()\n",
    "clf.fit(X_train, y_train)"
   ]
  },
  {
   "cell_type": "code",
   "execution_count": 41,
   "metadata": {},
   "outputs": [
    {
     "name": "stdout",
     "output_type": "stream",
     "text": [
      "SGD model accuracy: 99.79208014365372\n"
     ]
    }
   ],
   "source": [
    "preds = clf.predict(X_test)\n",
    "acc = np.mean(preds == y_test)\n",
    "print('SGD model accuracy: {}'.format(acc*100))"
   ]
  },
  {
   "cell_type": "code",
   "execution_count": 42,
   "metadata": {},
   "outputs": [
    {
     "name": "stdout",
     "output_type": "stream",
     "text": [
      "             precision    recall  f1-score   support\n",
      "\n",
      "          0       1.00      1.00      1.00      9148\n",
      "          1       1.00      0.98      0.99      1157\n",
      "          2       1.00      1.00      1.00       276\n",
      "\n",
      "avg / total       1.00      1.00      1.00     10581\n",
      "\n"
     ]
    }
   ],
   "source": [
    "cr = classification_report(y_test, clf.predict(X_test))\n",
    "print(cr)"
   ]
  },
  {
   "cell_type": "code",
   "execution_count": 43,
   "metadata": {},
   "outputs": [],
   "source": [
    "# SGD is faster and better than SVC"
   ]
  },
  {
   "cell_type": "code",
   "execution_count": null,
   "metadata": {},
   "outputs": [],
   "source": []
  }
 ],
 "metadata": {
  "kernelspec": {
   "display_name": "Python 3",
   "language": "python",
   "name": "python3"
  },
  "language_info": {
   "codemirror_mode": {
    "name": "ipython",
    "version": 3
   },
   "file_extension": ".py",
   "mimetype": "text/x-python",
   "name": "python",
   "nbconvert_exporter": "python",
   "pygments_lexer": "ipython3",
   "version": "3.6.5"
  }
 },
 "nbformat": 4,
 "nbformat_minor": 2
}
