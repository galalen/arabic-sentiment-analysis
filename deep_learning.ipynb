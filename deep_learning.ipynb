{
 "cells": [
  {
   "cell_type": "code",
   "execution_count": 1,
   "metadata": {},
   "outputs": [
    {
     "name": "stderr",
     "output_type": "stream",
     "text": [
      "/usr/lib/python3.6/importlib/_bootstrap.py:219: RuntimeWarning: numpy.dtype size changed, may indicate binary incompatibility. Expected 96, got 88\n",
      "  return f(*args, **kwds)\n",
      "/usr/lib/python3.6/importlib/_bootstrap.py:219: RuntimeWarning: numpy.dtype size changed, may indicate binary incompatibility. Expected 96, got 88\n",
      "  return f(*args, **kwds)\n"
     ]
    }
   ],
   "source": [
    "import numpy as np\n",
    "import pandas as pd\n",
    "\n",
    "import gensim\n",
    "from gensim.models import Word2Vec\n",
    "LabeledSentence = gensim.models.doc2vec.LabeledSentence \n",
    "\n",
    "from tqdm import tqdm\n",
    "tqdm.pandas(desc=\"progress-bar\")\n",
    "\n",
    "from nltk.tokenize import TweetTokenizer\n",
    "tokenizer = TweetTokenizer()\n",
    "\n",
    "from sklearn.model_selection import train_test_split\n",
    "from sklearn.feature_extraction.text import TfidfVectorizer"
   ]
  },
  {
   "cell_type": "code",
   "execution_count": 2,
   "metadata": {},
   "outputs": [],
   "source": [
    "df = pd.read_csv('cleaned_data.csv', encoding='utf-8')"
   ]
  },
  {
   "cell_type": "code",
   "execution_count": 3,
   "metadata": {},
   "outputs": [],
   "source": [
    "# data preprocessing: clear and clean the data from nonsense letters and words\n",
    "\n",
    "import re\n",
    "\n",
    "lst= ['#','%','@','*', ':']\n",
    "pat1 = r'@[A-Za-z0-9]+'\n",
    "\n",
    "def tokenize(tweet):\n",
    "    num = re.compile(r'[0-9]+')\n",
    "    tweet = re.sub(num, \"\", str(tweet))\n",
    "    tokens = tokenizer.tokenize(str(tweet))\n",
    "    for i in lst:\n",
    "        if i in tokens:\n",
    "            tokens.remove(i)\n",
    "    return tokens\n",
    "                                \n",
    "df['tokens'] = df['text'].apply(tokenize)"
   ]
  },
  {
   "cell_type": "code",
   "execution_count": 4,
   "metadata": {},
   "outputs": [
    {
     "data": {
      "text/html": [
       "<div>\n",
       "<style scoped>\n",
       "    .dataframe tbody tr th:only-of-type {\n",
       "        vertical-align: middle;\n",
       "    }\n",
       "\n",
       "    .dataframe tbody tr th {\n",
       "        vertical-align: top;\n",
       "    }\n",
       "\n",
       "    .dataframe thead th {\n",
       "        text-align: right;\n",
       "    }\n",
       "</style>\n",
       "<table border=\"1\" class=\"dataframe\">\n",
       "  <thead>\n",
       "    <tr style=\"text-align: right;\">\n",
       "      <th></th>\n",
       "      <th>Unnamed: 0</th>\n",
       "      <th>text</th>\n",
       "      <th>label</th>\n",
       "      <th>tokens</th>\n",
       "    </tr>\n",
       "  </thead>\n",
       "  <tbody>\n",
       "    <tr>\n",
       "      <th>0</th>\n",
       "      <td>0</td>\n",
       "      <td>RT : خالد السليمان : لـ # ولي_العهد الأمير # م...</td>\n",
       "      <td>0</td>\n",
       "      <td>[RT, خالد, السليمان, :, لـ, ولي_العهد, الأمير,...</td>\n",
       "    </tr>\n",
       "    <tr>\n",
       "      <th>1</th>\n",
       "      <td>1</td>\n",
       "      <td>RT : المختصر .. العمل في الشأن الثقافي ليس فقط...</td>\n",
       "      <td>0</td>\n",
       "      <td>[RT, المختصر, .., العمل, في, الشأن, الثقافي, ل...</td>\n",
       "    </tr>\n",
       "    <tr>\n",
       "      <th>2</th>\n",
       "      <td>2</td>\n",
       "      <td># الإسكان تطلق منصة جديدة يمكنك من خلالها الحص...</td>\n",
       "      <td>2</td>\n",
       "      <td>[الإسكان, تطلق, منصة, جديدة, يمكنك, من, خلالها...</td>\n",
       "    </tr>\n",
       "    <tr>\n",
       "      <th>3</th>\n",
       "      <td>3</td>\n",
       "      <td># وزير_المالية : تم تخصيص 70 ألف أرض سكنية وتخ...</td>\n",
       "      <td>2</td>\n",
       "      <td>[وزير_المالية, تم, تخصيص, ألف, أرض, سكنية, وتخ...</td>\n",
       "    </tr>\n",
       "    <tr>\n",
       "      <th>4</th>\n",
       "      <td>4</td>\n",
       "      <td>تملك السعودين للمنازل يقفز 50 % والتصاعد مستمر...</td>\n",
       "      <td>2</td>\n",
       "      <td>[تملك, السعودين, للمنازل, يقفز, والتصاعد, مستم...</td>\n",
       "    </tr>\n",
       "  </tbody>\n",
       "</table>\n",
       "</div>"
      ],
      "text/plain": [
       "   Unnamed: 0                                               text  label  \\\n",
       "0           0  RT : خالد السليمان : لـ # ولي_العهد الأمير # م...      0   \n",
       "1           1  RT : المختصر .. العمل في الشأن الثقافي ليس فقط...      0   \n",
       "2           2  # الإسكان تطلق منصة جديدة يمكنك من خلالها الحص...      2   \n",
       "3           3  # وزير_المالية : تم تخصيص 70 ألف أرض سكنية وتخ...      2   \n",
       "4           4  تملك السعودين للمنازل يقفز 50 % والتصاعد مستمر...      2   \n",
       "\n",
       "                                              tokens  \n",
       "0  [RT, خالد, السليمان, :, لـ, ولي_العهد, الأمير,...  \n",
       "1  [RT, المختصر, .., العمل, في, الشأن, الثقافي, ل...  \n",
       "2  [الإسكان, تطلق, منصة, جديدة, يمكنك, من, خلالها...  \n",
       "3  [وزير_المالية, تم, تخصيص, ألف, أرض, سكنية, وتخ...  \n",
       "4  [تملك, السعودين, للمنازل, يقفز, والتصاعد, مستم...  "
      ]
     },
     "execution_count": 4,
     "metadata": {},
     "output_type": "execute_result"
    }
   ],
   "source": [
    "df.head()"
   ]
  },
  {
   "cell_type": "code",
   "execution_count": 5,
   "metadata": {},
   "outputs": [],
   "source": [
    "# Data segmentation, \n",
    "X_train, X_test, y_train, y_test = train_test_split(df['tokens'], df['label'], test_size=0.33, random_state=42)"
   ]
  },
  {
   "cell_type": "code",
   "execution_count": 6,
   "metadata": {},
   "outputs": [
    {
     "data": {
      "text/plain": [
       "['RT',\n",
       " 'خالد',\n",
       " 'السليمان',\n",
       " ':',\n",
       " 'لـ',\n",
       " 'ولي_العهد',\n",
       " 'الأمير',\n",
       " '#',\n",
       " 'محمد_بن_سلمان',\n",
       " 'الدور',\n",
       " 'الأبرز',\n",
       " 'في',\n",
       " 'أرتفاع',\n",
       " 'نسبة',\n",
       " 'التملك',\n",
       " 'لـ',\n",
       " '٥٠',\n",
       " '٪',\n",
       " 'بعد',\n",
       " 'ما',\n",
       " 'كانت',\n",
       " 'شبه',\n",
       " 'ثابته',\n",
       " 'عند',\n",
       " '٤٧',\n",
       " '٪',\n",
       " 'ك',\n",
       " '…']"
      ]
     },
     "execution_count": 6,
     "metadata": {},
     "output_type": "execute_result"
    }
   ],
   "source": [
    "X_train[0]"
   ]
  },
  {
   "cell_type": "markdown",
   "metadata": {},
   "source": [
    "## Use the trained Word2Vec model "
   ]
  },
  {
   "cell_type": "code",
   "execution_count": 7,
   "metadata": {},
   "outputs": [],
   "source": [
    "w2v = Word2Vec.load('cbow.bin')"
   ]
  },
  {
   "cell_type": "code",
   "execution_count": 8,
   "metadata": {},
   "outputs": [
    {
     "name": "stderr",
     "output_type": "stream",
     "text": [
      "/home/mgalalen/.local/lib/python3.6/site-packages/ipykernel_launcher.py:2: DeprecationWarning: Call to deprecated `most_similar` (Method will be removed in 4.0.0, use self.wv.most_similar() instead).\n",
      "  \n"
     ]
    },
    {
     "data": {
      "text/plain": [
       "[('ولي', 0.9438014030456543),\n",
       " ('عهده', 0.8968819975852966),\n",
       " ('عهدنا', 0.88190758228302),\n",
       " ('عهد', 0.8595527410507202),\n",
       " ('الامير', 0.8186361193656921),\n",
       " ('سيدي', 0.8035902976989746),\n",
       " ('لولي', 0.794856071472168),\n",
       " ('خادم', 0.7939093112945557),\n",
       " ('الشاب', 0.7750820517539978),\n",
       " ('حكم', 0.768715500831604)]"
      ]
     },
     "execution_count": 8,
     "metadata": {},
     "output_type": "execute_result"
    }
   ],
   "source": [
    "# Test word and sees it similarity\n",
    "w2v.most_similar('العهد')"
   ]
  },
  {
   "cell_type": "code",
   "execution_count": 9,
   "metadata": {},
   "outputs": [
    {
     "name": "stderr",
     "output_type": "stream",
     "text": [
      "/home/mgalalen/.local/lib/python3.6/site-packages/ipykernel_launcher.py:1: DeprecationWarning: Call to deprecated `syn0` (Attribute will be removed in 4.0.0, use self.wv.vectors instead).\n",
      "  \"\"\"Entry point for launching an IPython kernel.\n"
     ]
    }
   ],
   "source": [
    "pretrained_weights = w2v.wv.syn0"
   ]
  },
  {
   "cell_type": "code",
   "execution_count": 10,
   "metadata": {},
   "outputs": [],
   "source": [
    "vocab_size, emdedding_size = pretrained_weights.shape"
   ]
  },
  {
   "cell_type": "code",
   "execution_count": 11,
   "metadata": {},
   "outputs": [],
   "source": [
    "def word2idx(word):\n",
    "    return w2v.wv.vocab[word].index\n",
    "\n",
    "def idx2word(idx):\n",
    "    return w2v.wv.index2word[idx]"
   ]
  },
  {
   "cell_type": "code",
   "execution_count": 12,
   "metadata": {},
   "outputs": [
    {
     "name": "stdout",
     "output_type": "stream",
     "text": [
      "building tf-idf matrix ...\n",
      "vocab size : 4476\n"
     ]
    }
   ],
   "source": [
    "# To find importance of the word with respect to the corpus.\n",
    "# see: http://scikit-learn.org/stable/modules/generated/sklearn.feature_extraction.text.TfidfVectorizer.html\n",
    "\n",
    "print('building tf-idf matrix ...')\n",
    "vectorizer = TfidfVectorizer(analyzer=lambda x: x, min_df=10)\n",
    "matrix = vectorizer.fit_transform([x for x in X_train])\n",
    "tfidf = dict(zip(vectorizer.get_feature_names(), vectorizer.idf_))\n",
    "print('vocab size :', len(tfidf))"
   ]
  },
  {
   "cell_type": "code",
   "execution_count": 13,
   "metadata": {},
   "outputs": [],
   "source": [
    "# convert tokens to vector of words\n",
    "\n",
    "def buildWordVector(tokens, size):\n",
    "    vec = np.zeros(size).reshape((1, size))\n",
    "    count = 0.\n",
    "    for word in tokens:\n",
    "        try:\n",
    "            vec += w2v[word].reshape((1, size)) * tfidf[word]\n",
    "            count += 1.\n",
    "        except KeyError: # handling the case where the token is not\n",
    "            continue\n",
    "    if count != 0:\n",
    "        vec /= count\n",
    "    return vec"
   ]
  },
  {
   "cell_type": "code",
   "execution_count": 14,
   "metadata": {
    "scrolled": true
   },
   "outputs": [
    {
     "name": "stderr",
     "output_type": "stream",
     "text": [
      "0it [00:00, ?it/s]/home/mgalalen/.local/lib/python3.6/site-packages/ipykernel_launcher.py:8: DeprecationWarning: Call to deprecated `__getitem__` (Method will be removed in 4.0.0, use self.wv.__getitem__() instead).\n",
      "  \n",
      "21482it [00:05, 3941.56it/s]\n",
      "10581it [00:02, 4308.13it/s]\n"
     ]
    }
   ],
   "source": [
    "# Scale data and build words vector\n",
    "from sklearn.preprocessing import scale\n",
    "\n",
    "n_dim = 200\n",
    "\n",
    "train_vecs_w2v = np.concatenate([buildWordVector(z, n_dim) for z in tqdm(map(lambda x: x, X_train))])\n",
    "train_vecs_w2v = scale(train_vecs_w2v)\n",
    "\n",
    "test_vecs_w2v = np.concatenate([buildWordVector(z, n_dim) for z in tqdm(map(lambda x: x, X_test))])\n",
    "test_vecs_w2v = scale(test_vecs_w2v)\n"
   ]
  },
  {
   "cell_type": "code",
   "execution_count": 15,
   "metadata": {},
   "outputs": [
    {
     "name": "stderr",
     "output_type": "stream",
     "text": [
      "Using TensorFlow backend.\n"
     ]
    }
   ],
   "source": [
    "from keras.models import Sequential\n",
    "from keras.layers import Dense, LSTM, Embedding, Activation, Flatten, Bidirectional\n",
    "from keras.utils import to_categorical\n",
    "import keras_metrics\n",
    "\n",
    "# convent labels to categorical classes\n",
    "cy_train = to_categorical(y_train)\n",
    "cy_test = to_categorical(y_test)"
   ]
  },
  {
   "cell_type": "code",
   "execution_count": 16,
   "metadata": {},
   "outputs": [
    {
     "data": {
      "text/plain": [
       "(21482, 200)"
      ]
     },
     "execution_count": 16,
     "metadata": {},
     "output_type": "execute_result"
    }
   ],
   "source": [
    "train_vecs_w2v.shape"
   ]
  },
  {
   "cell_type": "code",
   "execution_count": 17,
   "metadata": {},
   "outputs": [],
   "source": [
    "from keras import backend as K\n",
    "\n",
    "\n",
    "# calculate f score\n",
    "def f1(y_true, y_pred):\n",
    "    def recall(y_true, y_pred):\n",
    "        \"\"\"Recall metric.\n",
    "\n",
    "        Only computes a batch-wise average of recall.\n",
    "\n",
    "        Computes the recall, a metric for multi-label classification of\n",
    "        how many relevant items are selected.\n",
    "        \"\"\"\n",
    "        true_positives = K.sum(K.round(K.clip(y_true * y_pred, 0, 1)))\n",
    "        possible_positives = K.sum(K.round(K.clip(y_true, 0, 1)))\n",
    "        recall = true_positives / (possible_positives + K.epsilon())\n",
    "        return recall\n",
    "\n",
    "    def precision(y_true, y_pred):\n",
    "        \"\"\"Precision metric.\n",
    "\n",
    "        Only computes a batch-wise average of precision.\n",
    "\n",
    "        Computes the precision, a metric for multi-label classification of\n",
    "        how many selected items are relevant.\n",
    "        \"\"\"\n",
    "        true_positives = K.sum(K.round(K.clip(y_true * y_pred, 0, 1)))\n",
    "        predicted_positives = K.sum(K.round(K.clip(y_pred, 0, 1)))\n",
    "        precision = true_positives / (predicted_positives + K.epsilon())\n",
    "        return precision\n",
    "    precision = precision(y_true, y_pred)\n",
    "    recall = recall(y_true, y_pred)\n",
    "    return 2*((precision*recall)/(precision+recall+K.epsilon()))\n",
    "\n"
   ]
  },
  {
   "cell_type": "markdown",
   "metadata": {},
   "source": [
    "# LSTM"
   ]
  },
  {
   "cell_type": "code",
   "execution_count": 23,
   "metadata": {},
   "outputs": [
    {
     "name": "stdout",
     "output_type": "stream",
     "text": [
      "Epoch 1/10\n",
      " - 4s - loss: 0.1796 - acc: 0.9394 - precision: 0.9496 - recall: 0.8956 - f1: 0.9192\n",
      "Epoch 2/10\n",
      " - 4s - loss: 0.0913 - acc: 0.9651 - precision: 0.9931 - recall: 0.8221 - f1: 0.8980\n",
      "Epoch 3/10\n",
      " - 3s - loss: 0.0765 - acc: 0.9717 - precision: 0.9968 - recall: 0.7715 - f1: 0.8677\n",
      "Epoch 4/10\n",
      " - 3s - loss: 0.0701 - acc: 0.9725 - precision: 0.9986 - recall: 0.7283 - f1: 0.8395\n",
      "Epoch 5/10\n",
      " - 3s - loss: 0.0616 - acc: 0.9774 - precision: 0.9989 - recall: 0.6980 - f1: 0.8190\n",
      "Epoch 6/10\n",
      " - 3s - loss: 0.0592 - acc: 0.9773 - precision: 0.9992 - recall: 0.6802 - f1: 0.8064\n",
      "Epoch 7/10\n",
      " - 2s - loss: 0.0538 - acc: 0.9798 - precision: 0.9997 - recall: 0.6505 - f1: 0.7848\n",
      "Epoch 8/10\n",
      " - 2s - loss: 0.0526 - acc: 0.9793 - precision: 0.9997 - recall: 0.6410 - f1: 0.7776\n",
      "Epoch 9/10\n",
      " - 3s - loss: 0.0488 - acc: 0.9815 - precision: 0.9996 - recall: 0.6481 - f1: 0.7831\n",
      "Epoch 10/10\n",
      " - 3s - loss: 0.0484 - acc: 0.9813 - precision: 0.9998 - recall: 0.6406 - f1: 0.7775\n",
      "_________________________________________________________________\n",
      "Layer (type)                 Output Shape              Param #   \n",
      "=================================================================\n",
      "lstm_3 (LSTM)                (None, 100)               120400    \n",
      "_________________________________________________________________\n",
      "dense_3 (Dense)              (None, 3)                 303       \n",
      "=================================================================\n",
      "Total params: 120,703\n",
      "Trainable params: 120,703\n",
      "Non-trainable params: 0\n",
      "_________________________________________________________________\n"
     ]
    }
   ],
   "source": [
    "lstm_model = Sequential()\n",
    "lstm_model.add(LSTM(100, dropout=0.2, recurrent_dropout=0.2))\n",
    "lstm_model.add(Dense(3, activation='sigmoid'))\n",
    "lstm_model.compile(optimizer='rmsprop',\n",
    "              loss='categorical_crossentropy',\n",
    "              metrics=['accuracy', \n",
    "                       keras_metrics.precision(),\n",
    "                      keras_metrics.recall(),\n",
    "                      f1])\n",
    "\n",
    "lstm_his = lstm_model.fit(train_vecs_w2v.reshape((train_vecs_w2v.shape[0],1,200)), cy_train, epochs=10, batch_size=32, verbose=2)\n",
    "lstm_model.summary()"
   ]
  },
  {
   "cell_type": "code",
   "execution_count": 24,
   "metadata": {},
   "outputs": [
    {
     "name": "stdout",
     "output_type": "stream",
     "text": [
      "LSTM model acuracy: 97.95860504903524\n"
     ]
    }
   ],
   "source": [
    "score = lstm_model.evaluate(test_vecs_w2v.reshape((test_vecs_w2v.shape[0], 1, test_vecs_w2v.shape[1])), cy_test, batch_size=128, verbose=2)\n",
    "print('LSTM model acuracy: {}'.format(score[1]*100))"
   ]
  },
  {
   "cell_type": "code",
   "execution_count": 25,
   "metadata": {},
   "outputs": [
    {
     "data": {
      "image/png": "[encoded data removed]",
      "text/plain": [
       "<Figure size 432x288 with 1 Axes>"
      ]
     },
     "metadata": {},
     "output_type": "display_data"
    }
   ],
   "source": [
    "import matplotlib.pyplot as plt\n",
    "plt.plot(lstm_his.history['acc'])\n",
    "plt.plot(lstm_his.history['loss'])\n",
    "plt.show()"
   ]
  },
  {
   "cell_type": "code",
   "execution_count": 28,
   "metadata": {},
   "outputs": [],
   "source": [
    "# saving the model to the disk\n",
    "# use should install HDF5 or h5py to save the model\n",
    "# see: https://keras.io/getting-started/faq/#how-can-i-save-a-keras-model\n",
    "\n",
    "# lstm_model.save('lstm_model.h5')"
   ]
  },
  {
   "cell_type": "markdown",
   "metadata": {},
   "source": [
    "# Bidirectional LSTM"
   ]
  },
  {
   "cell_type": "code",
   "execution_count": 26,
   "metadata": {},
   "outputs": [
    {
     "name": "stdout",
     "output_type": "stream",
     "text": [
      "Epoch 1/10\n",
      " - 7s - loss: 0.1471 - acc: 0.9504 - precision: 0.9683 - recall: 0.8446 - f1: 0.8985\n",
      "Epoch 2/10\n",
      " - 5s - loss: 0.0774 - acc: 0.9710 - precision: 0.9970 - recall: 0.7328 - f1: 0.8418\n",
      "Epoch 3/10\n",
      " - 4s - loss: 0.0661 - acc: 0.9756 - precision: 0.9983 - recall: 0.6695 - f1: 0.7982\n",
      "Epoch 4/10\n",
      " - 4s - loss: 0.0580 - acc: 0.9776 - precision: 0.9993 - recall: 0.6362 - f1: 0.7736\n",
      "Epoch 5/10\n",
      " - 4s - loss: 0.0528 - acc: 0.9798 - precision: 0.9994 - recall: 0.6208 - f1: 0.7623\n",
      "Epoch 6/10\n",
      " - 4s - loss: 0.0462 - acc: 0.9820 - precision: 0.9999 - recall: 0.6099 - f1: 0.7537\n",
      "Epoch 7/10\n",
      " - 4s - loss: 0.0450 - acc: 0.9825 - precision: 0.9997 - recall: 0.6082 - f1: 0.7525\n",
      "Epoch 8/10\n",
      " - 4s - loss: 0.0399 - acc: 0.9847 - precision: 0.9999 - recall: 0.6217 - f1: 0.7633\n",
      "Epoch 9/10\n",
      " - 4s - loss: 0.0384 - acc: 0.9855 - precision: 0.9998 - recall: 0.6181 - f1: 0.7600\n",
      "Epoch 10/10\n",
      " - 5s - loss: 0.0356 - acc: 0.9857 - precision: 0.9999 - recall: 0.6270 - f1: 0.7675\n",
      "_________________________________________________________________\n",
      "Layer (type)                 Output Shape              Param #   \n",
      "=================================================================\n",
      "bidirectional_2 (Bidirection (None, 200)               240800    \n",
      "_________________________________________________________________\n",
      "dense_4 (Dense)              (None, 3)                 603       \n",
      "=================================================================\n",
      "Total params: 241,403\n",
      "Trainable params: 241,403\n",
      "Non-trainable params: 0\n",
      "_________________________________________________________________\n"
     ]
    }
   ],
   "source": [
    "model = Sequential()\n",
    "model.add(Bidirectional(LSTM(100, dropout=0.2, recurrent_dropout=0.2)))\n",
    "model.add(Dense(3, activation='sigmoid'))\n",
    "model.compile(optimizer='rmsprop',\n",
    "              loss='categorical_crossentropy',\n",
    "              metrics=['accuracy',\n",
    "                      keras_metrics.precision(),\n",
    "                      keras_metrics.recall(),\n",
    "                      f1])\n",
    "history = model.fit(train_vecs_w2v.reshape((train_vecs_w2v.shape[0],1,200)),\n",
    "                    cy_train,\n",
    "                    epochs=10,\n",
    "                    batch_size=32,\n",
    "                    verbose=2)\n",
    "model.summary()"
   ]
  },
  {
   "cell_type": "code",
   "execution_count": 27,
   "metadata": {},
   "outputs": [
    {
     "name": "stdout",
     "output_type": "stream",
     "text": [
      "Bidirectional model acuracy: 98.3082884426728\n"
     ]
    }
   ],
   "source": [
    "# The accuracy of the model\n",
    "score = model.evaluate(test_vecs_w2v.reshape((test_vecs_w2v.shape[0], 1, test_vecs_w2v.shape[1])), cy_test, batch_size=128, verbose=2)\n",
    "print('Bidirectional model acuracy: {}'.format(score[1]*100))"
   ]
  },
  {
   "cell_type": "code",
   "execution_count": 29,
   "metadata": {},
   "outputs": [],
   "source": [
    "# lstm_model.save('bilstm_model.h5')"
   ]
  },
  {
   "cell_type": "code",
   "execution_count": null,
   "metadata": {},
   "outputs": [],
   "source": [
    "# Loading the model\n",
    "# from keras.models import load_model\n",
    "# loaded_model = load_model(\"\")"
   ]
  },
  {
   "cell_type": "code",
   "execution_count": null,
   "metadata": {},
   "outputs": [],
   "source": []
  }
 ],
 "metadata": {
  "kernelspec": {
   "display_name": "Python 3",
   "language": "python",
   "name": "python3"
  },
  "language_info": {
   "codemirror_mode": {
    "name": "ipython",
    "version": 3
   },
   "file_extension": ".py",
   "mimetype": "text/x-python",
   "name": "python",
   "nbconvert_exporter": "python",
   "pygments_lexer": "ipython3",
   "version": "3.6.5"
  }
 },
 "nbformat": 4,
 "nbformat_minor": 2
}
